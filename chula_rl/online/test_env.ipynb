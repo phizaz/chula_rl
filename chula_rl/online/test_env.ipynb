{
 "cells": [
  {
   "cell_type": "code",
   "execution_count": 1,
   "metadata": {},
   "outputs": [],
   "source": [
    "from lib import Env\n",
    "import random"
   ]
  },
  {
   "cell_type": "code",
   "execution_count": 2,
   "metadata": {},
   "outputs": [],
   "source": [
    "env = Env(False)"
   ]
  },
  {
   "cell_type": "code",
   "execution_count": 3,
   "metadata": {},
   "outputs": [],
   "source": [
    "ret1 = env.reset(1)\n",
    "ret2 = env.reset(2)"
   ]
  },
  {
   "cell_type": "code",
   "execution_count": 4,
   "metadata": {},
   "outputs": [
    {
     "name": "stdout",
     "output_type": "stream",
     "text": [
      "player 1 reward: -1.0\n",
      "player 2 reward: 1.0\n"
     ]
    }
   ],
   "source": [
    "cnt = 0\n",
    "while True:\n",
    "    s, r, done, info, legal_moves = ret1.wait()\n",
    "    if done:\n",
    "        print('player 1 reward:', r)\n",
    "        cnt += 1\n",
    "    else:\n",
    "        a = random.choice(legal_moves)\n",
    "        ret1 = env.step(a, 1)\n",
    "\n",
    "    if cnt >= 2:\n",
    "        break\n",
    "        \n",
    "    s, r, done, info, legal_moves = ret2.wait()\n",
    "    if done:\n",
    "        print('player 2 reward:', r)\n",
    "        cnt += 1\n",
    "    else:\n",
    "        a = random.choice(legal_moves)\n",
    "        ret2 = env.step(a, 2)\n",
    "        \n",
    "    if cnt >= 2:\n",
    "        break\n"
   ]
  },
  {
   "cell_type": "code",
   "execution_count": 5,
   "metadata": {},
   "outputs": [
    {
     "data": {
      "text/plain": [
       "{'board': array([[0, 0, 1, 0, 2],\n",
       "        [2, 0, 0, 3, 1],\n",
       "        [0, 1, 2, 2, 1],\n",
       "        [0, 4, 3, 2, 1],\n",
       "        [2, 0, 2, 1, 1]]), 'workers': array([[3, 4],\n",
       "        [0, 3],\n",
       "        [1, 3],\n",
       "        [4, 1]]), 'parts': array([ 0,  5,  8, 11, 17]), 'current_player': -1, 'done': True}"
      ]
     },
     "execution_count": 5,
     "metadata": {},
     "output_type": "execute_result"
    }
   ],
   "source": [
    "env.env.get_state()"
   ]
  },
  {
   "cell_type": "code",
   "execution_count": null,
   "metadata": {},
   "outputs": [],
   "source": []
  }
 ],
 "metadata": {
  "kernelspec": {
   "display_name": "Python [conda env:charin]",
   "language": "python",
   "name": "conda-env-charin-py"
  },
  "language_info": {
   "codemirror_mode": {
    "name": "ipython",
    "version": 3
   },
   "file_extension": ".py",
   "mimetype": "text/x-python",
   "name": "python",
   "nbconvert_exporter": "python",
   "pygments_lexer": "ipython3",
   "version": "3.7.4"
  }
 },
 "nbformat": 4,
 "nbformat_minor": 4
}
