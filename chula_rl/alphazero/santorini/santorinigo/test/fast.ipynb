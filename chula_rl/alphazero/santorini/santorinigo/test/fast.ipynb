{
 "cells": [
  {
   "cell_type": "code",
   "execution_count": 1,
   "metadata": {},
   "outputs": [],
   "source": [
    "from chula_rl.alphazero.santorini.santorinigo.fast import Santorini\n",
    "import random"
   ]
  },
  {
   "cell_type": "code",
   "execution_count": 2,
   "metadata": {},
   "outputs": [],
   "source": [
    "env = Santorini(auto_invert=True, superpower=False)"
   ]
  },
  {
   "cell_type": "code",
   "execution_count": 3,
   "metadata": {},
   "outputs": [
    {
     "data": {
      "text/plain": [
       "array([[[ 0,  0,  0,  0,  0],\n",
       "        [ 0,  0,  0,  0,  0],\n",
       "        [ 0,  0,  0,  0,  0],\n",
       "        [ 0,  0,  0,  0,  0],\n",
       "        [ 0,  0,  0,  0,  0]],\n",
       "\n",
       "       [[ 0,  0, -1,  0,  0],\n",
       "        [ 0,  0,  0,  0,  0],\n",
       "        [ 1,  0,  0,  0,  2],\n",
       "        [ 0,  0,  0,  0,  0],\n",
       "        [ 0,  0, -2,  0,  0]],\n",
       "\n",
       "       [[ 0,  0,  0,  0,  0],\n",
       "        [ 0, 22,  0,  0,  0],\n",
       "        [ 0,  0, 18,  0,  0],\n",
       "        [ 0,  0,  0, 14,  0],\n",
       "        [ 0,  0,  0,  0, 18]]])"
      ]
     },
     "execution_count": 3,
     "metadata": {},
     "output_type": "execute_result"
    }
   ],
   "source": [
    "env.reset()"
   ]
  },
  {
   "cell_type": "code",
   "execution_count": 4,
   "metadata": {},
   "outputs": [],
   "source": [
    "env.set_state(**env.get_state())"
   ]
  },
  {
   "cell_type": "code",
   "execution_count": 10,
   "metadata": {},
   "outputs": [
    {
     "name": "stdout",
     "output_type": "stream",
     "text": [
      "[[[ 1  2  2  1  1]\n",
      "  [ 0  2  1  2  1]\n",
      "  [ 4  4  0  2  0]\n",
      "  [ 2  1  2  4  1]\n",
      "  [ 2  1  3  1  3]]\n",
      "\n",
      " [[ 0  0  0  0  0]\n",
      "  [ 0  0  0 -1  0]\n",
      "  [ 0  0  1  0  0]\n",
      "  [ 0  2 -2  0  0]\n",
      "  [ 0  0  0  0  0]]\n",
      "\n",
      " [[ 0  0  0  0  0]\n",
      "  [ 0  0  0  0  0]\n",
      "  [ 0  0  5  0  0]\n",
      "  [ 0  0  0  9  0]\n",
      "  [ 0  0  0  0 15]]] winner: 1\n",
      "action: (-2, 'x', 'e')\n"
     ]
    }
   ],
   "source": [
    "s = env.reset()\n",
    "while True:\n",
    "    current = env.current_player\n",
    "    a = random.choice(env.legal_moves())\n",
    "    next_s, r, done, _ = env.step(a)\n",
    "    if done:\n",
    "        print(s, 'winner:', current)\n",
    "        print('action:', env.itoa[a])\n",
    "        break\n",
    "    s = next_s"
   ]
  }
 ],
 "metadata": {
  "kernelspec": {
   "display_name": "Python [conda env:charin]",
   "language": "python",
   "name": "conda-env-charin-py"
  },
  "language_info": {
   "codemirror_mode": {
    "name": "ipython",
    "version": 3
   },
   "file_extension": ".py",
   "mimetype": "text/x-python",
   "name": "python",
   "nbconvert_exporter": "python",
   "pygments_lexer": "ipython3",
   "version": "3.7.4"
  }
 },
 "nbformat": 4,
 "nbformat_minor": 4
}
