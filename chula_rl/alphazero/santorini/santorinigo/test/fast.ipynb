{
 "cells": [
  {
   "cell_type": "code",
   "execution_count": 2,
   "metadata": {},
   "outputs": [],
   "source": [
    "from chula_rl.alphazero.santorini.santorinigo.fast import Santorini\n",
    "import random"
   ]
  },
  {
   "cell_type": "code",
   "execution_count": 21,
   "metadata": {},
   "outputs": [],
   "source": [
    "env = Santorini(auto_invert=True, superpower=True)"
   ]
  },
  {
   "cell_type": "code",
   "execution_count": 31,
   "metadata": {},
   "outputs": [
    {
     "data": {
      "text/plain": [
       "array([[[ 0,  0,  0,  0,  0],\n",
       "        [ 0,  0,  0,  0,  0],\n",
       "        [ 0,  0,  0,  0,  0],\n",
       "        [ 0,  0,  0,  0,  0],\n",
       "        [ 0,  0,  0,  0,  0]],\n",
       "\n",
       "       [[ 0,  0, -1,  0,  0],\n",
       "        [ 0,  0,  0,  0,  0],\n",
       "        [ 1,  0,  0,  0,  2],\n",
       "        [ 0,  0,  0,  0,  0],\n",
       "        [ 0,  0, -2,  0,  0]],\n",
       "\n",
       "       [[ 0,  0,  0,  0,  0],\n",
       "        [ 0, 22,  0,  0,  0],\n",
       "        [ 0,  0, 18,  0,  0],\n",
       "        [ 0,  0,  0, 14,  0],\n",
       "        [ 0,  0,  0,  0, 18]]])"
      ]
     },
     "execution_count": 31,
     "metadata": {},
     "output_type": "execute_result"
    }
   ],
   "source": [
    "env.reset()"
   ]
  },
  {
   "cell_type": "code",
   "execution_count": 32,
   "metadata": {},
   "outputs": [],
   "source": [
    "env.set_state(**env.get_state())"
   ]
  },
  {
   "cell_type": "code",
   "execution_count": 61,
   "metadata": {},
   "outputs": [
    {
     "name": "stdout",
     "output_type": "stream",
     "text": [
      "[[[ 0  0  1  2  0]\n",
      "  [ 0  0  2  1  1]\n",
      "  [ 2  0  4  1  2]\n",
      "  [ 1  1  1  1  1]\n",
      "  [ 1  3  3  1  0]]\n",
      "\n",
      " [[ 0  0  0  1  0]\n",
      "  [ 0  0  0 -1  0]\n",
      "  [ 0  0  0  0  0]\n",
      "  [ 0  0  0 -2  0]\n",
      "  [ 0  0  2  0  0]]\n",
      "\n",
      " [[ 0  0  0  0  0]\n",
      "  [ 0  4  0  0  0]\n",
      "  [ 0  0 11  0  0]\n",
      "  [ 0  0  0 11  0]\n",
      "  [ 0  0  0  0 17]]] winner: -1\n"
     ]
    }
   ],
   "source": [
    "env.reset()\n",
    "while True:\n",
    "    current = env.current_player\n",
    "    a = random.choice(env.legal_moves())\n",
    "    s, r, done, _ = env.step(a)\n",
    "    if done:\n",
    "        print(s, 'winner:', current)\n",
    "        break"
   ]
  },
  {
   "cell_type": "code",
   "execution_count": null,
   "metadata": {},
   "outputs": [],
   "source": []
  }
 ],
 "metadata": {
  "kernelspec": {
   "display_name": "Python [conda env:charin]",
   "language": "python",
   "name": "conda-env-charin-py"
  },
  "language_info": {
   "codemirror_mode": {
    "name": "ipython",
    "version": 3
   },
   "file_extension": ".py",
   "mimetype": "text/x-python",
   "name": "python",
   "nbconvert_exporter": "python",
   "pygments_lexer": "ipython3",
   "version": "3.7.4"
  }
 },
 "nbformat": 4,
 "nbformat_minor": 4
}
