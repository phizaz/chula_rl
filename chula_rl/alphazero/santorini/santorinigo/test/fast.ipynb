{
 "cells": [
  {
   "cell_type": "code",
   "execution_count": 1,
   "metadata": {},
   "outputs": [],
   "source": [
    "from chula_rl.alphazero.santorini.santorinigo.env2 import Santorini\n",
    "import random"
   ]
  },
  {
   "cell_type": "code",
   "execution_count": 2,
   "metadata": {},
   "outputs": [],
   "source": [
    "env = Santorini(auto_invert=True)"
   ]
  },
  {
   "cell_type": "code",
   "execution_count": 3,
   "metadata": {},
   "outputs": [
    {
     "data": {
      "text/plain": [
       "array([[[ 0,  0,  0,  0,  0],\n",
       "        [ 0,  0,  0,  0,  0],\n",
       "        [ 0,  0,  0,  0,  0],\n",
       "        [ 0,  0,  0,  0,  0],\n",
       "        [ 0,  0,  0,  0,  0]],\n",
       "\n",
       "       [[ 0,  0, -1,  0,  0],\n",
       "        [ 0,  0,  0,  0,  0],\n",
       "        [ 1,  0,  0,  0,  2],\n",
       "        [ 0,  0,  0,  0,  0],\n",
       "        [ 0,  0, -2,  0,  0]],\n",
       "\n",
       "       [[ 0,  0,  0,  0,  0],\n",
       "        [ 0, 22,  0,  0,  0],\n",
       "        [ 0,  0, 18,  0,  0],\n",
       "        [ 0,  0,  0, 14,  0],\n",
       "        [ 0,  0,  0,  0, 18]]])"
      ]
     },
     "execution_count": 3,
     "metadata": {},
     "output_type": "execute_result"
    }
   ],
   "source": [
    "env.reset()"
   ]
  },
  {
   "cell_type": "code",
   "execution_count": 4,
   "metadata": {},
   "outputs": [],
   "source": [
    "env.set_state(**env.get_state())"
   ]
  },
  {
   "cell_type": "code",
   "execution_count": 21,
   "metadata": {},
   "outputs": [
    {
     "data": {
      "text/plain": [
       "(array([[[ 0,  0,  0,  3,  0],\n",
       "         [ 0,  0,  3,  0,  0],\n",
       "         [ 0,  0,  1,  2,  3],\n",
       "         [ 1,  0,  0,  0,  1],\n",
       "         [ 0,  1,  1,  1,  0]],\n",
       " \n",
       "        [[ 0,  0, -2,  0,  0],\n",
       "         [ 0,  0,  0,  0,  1],\n",
       "         [ 0,  0,  0,  0,  0],\n",
       "         [ 0, -1,  0,  2,  0],\n",
       "         [ 0,  0,  0,  0,  0]],\n",
       " \n",
       "        [[ 0,  0,  0,  0,  0],\n",
       "         [ 0, 12,  0,  0,  0],\n",
       "         [ 0,  0, 14,  0,  0],\n",
       "         [ 0,  0,  0, 11,  0],\n",
       "         [ 0,  0,  0,  0, 18]]]), 0.0, False, {})"
      ]
     },
     "execution_count": 21,
     "metadata": {},
     "output_type": "execute_result"
    }
   ],
   "source": [
    "a = random.choice(env.legal_moves())\n",
    "env.step(a)"
   ]
  },
  {
   "cell_type": "code",
   "execution_count": null,
   "metadata": {},
   "outputs": [],
   "source": []
  }
 ],
 "metadata": {
  "kernelspec": {
   "display_name": "Python [conda env:charin]",
   "language": "python",
   "name": "conda-env-charin-py"
  },
  "language_info": {
   "codemirror_mode": {
    "name": "ipython",
    "version": 3
   },
   "file_extension": ".py",
   "mimetype": "text/x-python",
   "name": "python",
   "nbconvert_exporter": "python",
   "pygments_lexer": "ipython3",
   "version": "3.7.4"
  }
 },
 "nbformat": 4,
 "nbformat_minor": 4
}
