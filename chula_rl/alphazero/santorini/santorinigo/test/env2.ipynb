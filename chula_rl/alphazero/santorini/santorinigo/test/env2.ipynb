{
 "cells": [
  {
   "cell_type": "code",
   "execution_count": 2,
   "metadata": {},
   "outputs": [
    {
     "ename": "AssertionError",
     "evalue": "r1 0 != r2 1.0",
     "output_type": "error",
     "traceback": [
      "\u001b[0;31m---------------------------------------------------------------------------\u001b[0m",
      "\u001b[0;31mAssertionError\u001b[0m                            Traceback (most recent call last)",
      "\u001b[0;32m<ipython-input-2-32cbd80043fb>\u001b[0m in \u001b[0;36m<module>\u001b[0;34m\u001b[0m\n\u001b[1;32m     42\u001b[0m     \u001b[0mactions\u001b[0m \u001b[0;34m=\u001b[0m \u001b[0mverify\u001b[0m\u001b[0;34m.\u001b[0m\u001b[0mlegal_moves\u001b[0m\u001b[0;34m(\u001b[0m\u001b[0;34m)\u001b[0m\u001b[0;34m\u001b[0m\u001b[0;34m\u001b[0m\u001b[0m\n\u001b[1;32m     43\u001b[0m     \u001b[0ma\u001b[0m \u001b[0;34m=\u001b[0m \u001b[0mrandom\u001b[0m\u001b[0;34m.\u001b[0m\u001b[0mchoice\u001b[0m\u001b[0;34m(\u001b[0m\u001b[0mactions\u001b[0m\u001b[0;34m)\u001b[0m\u001b[0;34m\u001b[0m\u001b[0;34m\u001b[0m\u001b[0m\n\u001b[0;32m---> 44\u001b[0;31m     \u001b[0ms\u001b[0m\u001b[0;34m,\u001b[0m \u001b[0mr\u001b[0m\u001b[0;34m,\u001b[0m \u001b[0mdone\u001b[0m\u001b[0;34m,\u001b[0m \u001b[0minfo\u001b[0m \u001b[0;34m=\u001b[0m \u001b[0mverify\u001b[0m\u001b[0;34m.\u001b[0m\u001b[0mstep\u001b[0m\u001b[0;34m(\u001b[0m\u001b[0ma\u001b[0m\u001b[0;34m)\u001b[0m\u001b[0;34m\u001b[0m\u001b[0;34m\u001b[0m\u001b[0m\n\u001b[0m\u001b[1;32m     45\u001b[0m     \u001b[0;32mif\u001b[0m \u001b[0mdone\u001b[0m\u001b[0;34m:\u001b[0m\u001b[0;34m\u001b[0m\u001b[0;34m\u001b[0m\u001b[0m\n\u001b[1;32m     46\u001b[0m         \u001b[0mverify\u001b[0m\u001b[0;34m.\u001b[0m\u001b[0mreset\u001b[0m\u001b[0;34m(\u001b[0m\u001b[0;34m)\u001b[0m\u001b[0;34m\u001b[0m\u001b[0;34m\u001b[0m\u001b[0m\n",
      "\u001b[0;32m<ipython-input-2-32cbd80043fb>\u001b[0m in \u001b[0;36mstep\u001b[0;34m(self, a)\u001b[0m\n\u001b[1;32m     28\u001b[0m         \u001b[0ms2\u001b[0m\u001b[0;34m,\u001b[0m \u001b[0mr2\u001b[0m\u001b[0;34m,\u001b[0m \u001b[0md2\u001b[0m\u001b[0;34m,\u001b[0m \u001b[0m_\u001b[0m \u001b[0;34m=\u001b[0m \u001b[0mself\u001b[0m\u001b[0;34m.\u001b[0m\u001b[0menv2\u001b[0m\u001b[0;34m.\u001b[0m\u001b[0mstep\u001b[0m\u001b[0;34m(\u001b[0m\u001b[0ma\u001b[0m\u001b[0;34m)\u001b[0m\u001b[0;34m\u001b[0m\u001b[0;34m\u001b[0m\u001b[0m\n\u001b[1;32m     29\u001b[0m         \u001b[0;32massert\u001b[0m \u001b[0mnp\u001b[0m\u001b[0;34m.\u001b[0m\u001b[0marray_equal\u001b[0m\u001b[0;34m(\u001b[0m\u001b[0ms1\u001b[0m\u001b[0;34m,\u001b[0m \u001b[0ms2\u001b[0m\u001b[0;34m)\u001b[0m\u001b[0;34m\u001b[0m\u001b[0;34m\u001b[0m\u001b[0m\n\u001b[0;32m---> 30\u001b[0;31m         \u001b[0;32massert\u001b[0m \u001b[0mr1\u001b[0m \u001b[0;34m==\u001b[0m \u001b[0mr2\u001b[0m\u001b[0;34m,\u001b[0m \u001b[0;34mf'r1 {r1} != r2 {r2}'\u001b[0m\u001b[0;34m\u001b[0m\u001b[0;34m\u001b[0m\u001b[0m\n\u001b[0m\u001b[1;32m     31\u001b[0m         \u001b[0;32massert\u001b[0m \u001b[0md1\u001b[0m \u001b[0;34m==\u001b[0m \u001b[0md2\u001b[0m\u001b[0;34m,\u001b[0m \u001b[0;34mf'd1 {d1} != d2 {d2}'\u001b[0m\u001b[0;34m\u001b[0m\u001b[0;34m\u001b[0m\u001b[0m\n\u001b[1;32m     32\u001b[0m         \u001b[0;32mreturn\u001b[0m \u001b[0ms1\u001b[0m\u001b[0;34m,\u001b[0m \u001b[0mr1\u001b[0m\u001b[0;34m,\u001b[0m \u001b[0md1\u001b[0m\u001b[0;34m,\u001b[0m \u001b[0mi1\u001b[0m\u001b[0;34m\u001b[0m\u001b[0;34m\u001b[0m\u001b[0m\n",
      "\u001b[0;31mAssertionError\u001b[0m: r1 0 != r2 1.0"
     ]
    }
   ],
   "source": [
    "from chula_rl.alphazero.santorini.santorinigo.env2 import Santorini as Santorini2\n",
    "from chula_rl.alphazero.santorini.santorinigo.environment import Santorini\n",
    "import random\n",
    "import time\n",
    "import numpy as np\n",
    "\n",
    "\n",
    "class Verify:\n",
    "    def __init__(self, env, env2):\n",
    "        self.env = env\n",
    "        self.env2 = env2\n",
    "\n",
    "    def reset(self):\n",
    "        e1 = self.env.reset()\n",
    "        e2 = self.env2.reset()\n",
    "        assert np.array_equal(e1, e2)\n",
    "        return e1\n",
    "\n",
    "    def legal_moves(self):\n",
    "        e1 = self.env.legal_moves()\n",
    "        e2 = self.env2.legal_moves()\n",
    "        assert len(e1) == len(e2), f'len e1 {len(e1)} != len e2 {len(e2)}'\n",
    "        assert all(a == b for a, b in zip(e1, e2))\n",
    "        return e1\n",
    "\n",
    "    def step(self, a):\n",
    "        s1, r1, d1, i1 = self.env.step(a)\n",
    "        s2, r2, d2, _ = self.env2.step(a)\n",
    "        assert np.array_equal(s1, s2)\n",
    "        assert r1 == r2, f'r1 {r1} != r2 {r2}'\n",
    "        assert d1 == d2, f'd1 {d1} != d2 {d2}'\n",
    "        return s1, r1, d1, i1\n",
    "\n",
    "\n",
    "env = Santorini()\n",
    "env2 = Santorini2()\n",
    "\n",
    "verify = Verify(env, env2)\n",
    "\n",
    "state = verify.reset()\n",
    "for i_act in range(1000):\n",
    "    actions = verify.legal_moves()\n",
    "    a = random.choice(actions)\n",
    "    s, r, done, info = verify.step(a)\n",
    "    if done:\n",
    "        verify.reset()"
   ]
  },
  {
   "cell_type": "code",
   "execution_count": 3,
   "metadata": {},
   "outputs": [
    {
     "data": {
      "text/plain": [
       "array([[[ 2,  2,  4,  1,  0],\n",
       "        [ 4,  3,  1,  1,  1],\n",
       "        [ 2,  1,  2,  4,  0],\n",
       "        [ 0,  4,  1,  4,  1],\n",
       "        [ 0,  0,  2,  3,  1]],\n",
       "\n",
       "       [[ 0, -1,  0,  0,  0],\n",
       "        [ 0,  1,  0,  0,  0],\n",
       "        [ 0,  0,  0,  0,  0],\n",
       "        [ 0,  0,  0,  0,  0],\n",
       "        [ 0, -2,  0,  0,  2]],\n",
       "\n",
       "       [[ 0,  0,  0,  0,  0],\n",
       "        [ 0,  2,  0,  0,  0],\n",
       "        [ 0,  0,  6,  0,  0],\n",
       "        [ 0,  0,  0,  7,  0],\n",
       "        [ 0,  0,  0,  0, 13]]])"
      ]
     },
     "execution_count": 3,
     "metadata": {},
     "output_type": "execute_result"
    }
   ],
   "source": [
    "env."
   ]
  },
  {
   "cell_type": "code",
   "execution_count": 46,
   "metadata": {},
   "outputs": [
    {
     "data": {
      "text/plain": [
       "array([[[ 0,  1,  3,  2,  0],\n",
       "        [ 4,  2,  0,  2,  1],\n",
       "        [ 1,  1,  4,  4,  1],\n",
       "        [ 0,  3,  2,  2,  3],\n",
       "        [ 1,  0,  0,  2,  2]],\n",
       "\n",
       "       [[ 0,  1,  0,  0,  0],\n",
       "        [ 0,  0,  0,  0,  0],\n",
       "        [ 0,  0,  0,  0, -1],\n",
       "        [ 0,  0,  0,  0, -2],\n",
       "        [ 0,  2,  0,  0,  0]],\n",
       "\n",
       "       [[ 0,  0,  0,  0,  0],\n",
       "        [ 0,  3,  0,  0,  0],\n",
       "        [ 0,  0,  5,  0,  0],\n",
       "        [ 0,  0,  0,  8,  0],\n",
       "        [ 0,  0,  0,  0, 15]]])"
      ]
     },
     "execution_count": 46,
     "metadata": {},
     "output_type": "execute_result"
    }
   ],
   "source": [
    "state_array(env2._state)"
   ]
  },
  {
   "cell_type": "code",
   "execution_count": null,
   "metadata": {},
   "outputs": [],
   "source": []
  }
 ],
 "metadata": {
  "kernelspec": {
   "display_name": "Python [conda env:charin]",
   "language": "python",
   "name": "conda-env-charin-py"
  },
  "language_info": {
   "codemirror_mode": {
    "name": "ipython",
    "version": 3
   },
   "file_extension": ".py",
   "mimetype": "text/x-python",
   "name": "python",
   "nbconvert_exporter": "python",
   "pygments_lexer": "ipython3",
   "version": "3.7.4"
  }
 },
 "nbformat": 4,
 "nbformat_minor": 4
}
